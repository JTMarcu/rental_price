{
 "cells": [
  {
   "cell_type": "markdown",
   "id": "b38e8469",
   "metadata": {},
   "source": [
    "## Step 1: Set Up Your Environment"
   ]
  },
  {
   "cell_type": "code",
   "execution_count": 1,
   "id": "a7f36e8b",
   "metadata": {},
   "outputs": [],
   "source": [
    "import requests\n",
    "from bs4 import BeautifulSoup\n",
    "import pandas as pd\n",
    "import time"
   ]
  },
  {
   "cell_type": "markdown",
   "id": "0e67a6f8",
   "metadata": {},
   "source": [
    "## Step 2: Understand the Target Website Structure\n",
    "\n",
    "Before writing the scraping logic, it's crucial to understand the HTML structure of the target website."
   ]
  },
  {
   "cell_type": "markdown",
   "id": "6c3eaa98",
   "metadata": {},
   "source": [
    "**2.1 Choose a Target URL**\n",
    "\n",
    "For this example, we'll use Realtor.com's listings for Los Angeles, CA:\n",
    "\n",
    "`https://www.realtor.com/apartments/San-Diego_CA`"
   ]
  },
  {
   "cell_type": "markdown",
   "id": "ca7fd82f",
   "metadata": {},
   "source": [
    "**2.2 Inspect the Page**\n",
    "\n",
    "- Open the URL in your web browser.\n",
    "- Right-click on a rental listing and select \"Inspect\" to open the developer tools.\n",
    "- Identify the HTML elements that contain the data you want to extract, such as:\n",
    "  - Listing container\n",
    "  - Price\n",
    "  - Address\n",
    "  - Number of bedrooms and bathrooms\n",
    "  - Square footage\n",
    "\n",
    "Note the class names and hierarchy of these elements, as you'll use them to extract data with BeautifulSoup.\n",
    "\n",
    "---"
   ]
  },
  {
   "cell_type": "markdown",
   "id": "7926c16c",
   "metadata": {},
   "source": [
    "## Step 3: Write the Scraping Logic\n",
    "\n",
    "Now that you understand the structure of the target website, you can proceed to write the scraping logic."
   ]
  },
  {
   "cell_type": "markdown",
   "id": "c08cea79",
   "metadata": {},
   "source": [
    "**3.1 Define the Base URL and Headers**\n",
    "\n",
    "Set up the base URL and headers to mimic a browser request:"
   ]
  },
  {
   "cell_type": "code",
   "execution_count": 1,
   "id": "6d87a22a",
   "metadata": {},
   "outputs": [],
   "source": [
    "base_url = \"\"\n",
    "headers = {\n",
    "}"
   ]
  },
  {
   "cell_type": "markdown",
   "id": "e7d28c70",
   "metadata": {},
   "source": [
    "**3.2 Send a GET Request**\n",
    "\n",
    "Fetch the page content using the `requests` library:"
   ]
  },
  {
   "cell_type": "code",
   "execution_count": 9,
   "id": "a947d80d",
   "metadata": {},
   "outputs": [
    {
     "name": "stdout",
     "output_type": "stream",
     "text": [
      "Failed to fetch the page. Status code: 429\n"
     ]
    }
   ],
   "source": [
    "response = requests.get(base_url, headers=headers)\n",
    "if response.status_code == 200:\n",
    "    print(\"Successfully fetched the page\")\n",
    "else:\n",
    "    print(f\"Failed to fetch the page. Status code: {response.status_code}\")"
   ]
  },
  {
   "cell_type": "markdown",
   "id": "9f69f480",
   "metadata": {},
   "source": [
    "**3.3 Parse the HTML Content**\n",
    "\n",
    "Use BeautifulSoup to parse the HTML content:"
   ]
  },
  {
   "cell_type": "code",
   "execution_count": 4,
   "id": "32f77743",
   "metadata": {},
   "outputs": [],
   "source": [
    "soup = BeautifulSoup(response.content, \"html.parser\")"
   ]
  },
  {
   "cell_type": "markdown",
   "id": "4edc0f37",
   "metadata": {},
   "source": [
    "**3.4 Identify Listing Containers**\n",
    "\n",
    "Find all the listing containers on the page. The exact class name may vary, so use the class name you identified during inspection:\n"
   ]
  },
  {
   "cell_type": "code",
   "execution_count": 5,
   "id": "01e8e497",
   "metadata": {},
   "outputs": [
    {
     "name": "stdout",
     "output_type": "stream",
     "text": [
      "Found 0 listings on the page\n"
     ]
    }
   ],
   "source": [
    "listings = soup.find_all(\"li\", class_=\"component_property-card\")\n",
    "print(f\"Found {len(listings)} listings on the page\")"
   ]
  },
  {
   "cell_type": "markdown",
   "id": "b3ecee3f",
   "metadata": {},
   "source": [
    "**3.5 Extract Data from Each Listing**\n",
    "\n",
    "Loop through each listing and extract the desired information:"
   ]
  },
  {
   "cell_type": "code",
   "execution_count": 6,
   "id": "9cbf629b",
   "metadata": {},
   "outputs": [],
   "source": [
    "data = []\n",
    "\n",
    "for listing in listings:\n",
    "    try:\n",
    "        price = listing.find(\"span\", class_=\"data-price\").text.strip()\n",
    "    except AttributeError:\n",
    "        price = None\n",
    "\n",
    "    try:\n",
    "        address = listing.find(\"div\", class_=\"address\").text.strip()\n",
    "    except AttributeError:\n",
    "        address = None\n",
    "\n",
    "    try:\n",
    "        beds = listing.find(\"li\", class_=\"data-value meta-beds\").text.strip()\n",
    "    except AttributeError:\n",
    "        beds = None\n",
    "\n",
    "    try:\n",
    "        baths = listing.find(\"li\", class_=\"data-value meta-baths\").text.strip()\n",
    "    except AttributeError:\n",
    "        baths = None\n",
    "\n",
    "    try:\n",
    "        sqft = listing.find(\"li\", class_=\"data-value meta-sqft\").text.strip()\n",
    "    except AttributeError:\n",
    "        sqft = None\n",
    "\n",
    "    data.append({\n",
    "        \"Price\": price,\n",
    "        \"Address\": address,\n",
    "        \"Beds\": beds,\n",
    "        \"Baths\": baths,\n",
    "        \"Square Footage\": sqft\n",
    "    })"
   ]
  },
  {
   "cell_type": "markdown",
   "id": "ea88575a",
   "metadata": {},
   "source": [
    "**3.6 Create a DataFrame**\n",
    "\n",
    "Convert the extracted data into a pandas DataFrame:"
   ]
  },
  {
   "cell_type": "code",
   "execution_count": 7,
   "id": "3f5abe41",
   "metadata": {},
   "outputs": [
    {
     "data": {
      "text/html": [
       "<div>\n",
       "<style scoped>\n",
       "    .dataframe tbody tr th:only-of-type {\n",
       "        vertical-align: middle;\n",
       "    }\n",
       "\n",
       "    .dataframe tbody tr th {\n",
       "        vertical-align: top;\n",
       "    }\n",
       "\n",
       "    .dataframe thead th {\n",
       "        text-align: right;\n",
       "    }\n",
       "</style>\n",
       "<table border=\"1\" class=\"dataframe\">\n",
       "  <thead>\n",
       "    <tr style=\"text-align: right;\">\n",
       "      <th></th>\n",
       "    </tr>\n",
       "  </thead>\n",
       "  <tbody>\n",
       "  </tbody>\n",
       "</table>\n",
       "</div>"
      ],
      "text/plain": [
       "Empty DataFrame\n",
       "Columns: []\n",
       "Index: []"
      ]
     },
     "execution_count": 7,
     "metadata": {},
     "output_type": "execute_result"
    }
   ],
   "source": [
    "df = pd.DataFrame(data)\n",
    "df.head()"
   ]
  }
 ],
 "metadata": {
  "kernelspec": {
   "display_name": "Python 3",
   "language": "python",
   "name": "python3"
  },
  "language_info": {
   "codemirror_mode": {
    "name": "ipython",
    "version": 3
   },
   "file_extension": ".py",
   "mimetype": "text/x-python",
   "name": "python",
   "nbconvert_exporter": "python",
   "pygments_lexer": "ipython3",
   "version": "3.11.9"
  }
 },
 "nbformat": 4,
 "nbformat_minor": 5
}
