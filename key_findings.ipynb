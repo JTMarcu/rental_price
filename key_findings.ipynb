{
 "cells": [
  {
   "cell_type": "markdown",
   "id": "a8688de9",
   "metadata": {},
   "source": [
    "# Rental Price Optimization – Key Findings Analysis\n"
   ]
  },
  {
   "cell_type": "code",
   "execution_count": 1,
   "id": "fb3ad4aa",
   "metadata": {},
   "outputs": [],
   "source": [
    "# Cell 1: Imports and settings\n",
    "import pandas as pd\n",
    "import numpy as np\n",
    "import matplotlib.pyplot as plt\n",
    "\n",
    "# Ensure plots appear inline\n",
    "%matplotlib inline\n"
   ]
  },
  {
   "cell_type": "markdown",
   "id": "5f841e9d",
   "metadata": {},
   "source": [
    "---\n",
    "Load the cleaned rental data CSV.  \n",
    "Replace the filename with your actual file path.\n"
   ]
  },
  {
   "cell_type": "code",
   "execution_count": 2,
   "id": "78c5bb02",
   "metadata": {},
   "outputs": [
    {
     "data": {
      "text/html": [
       "<div>\n",
       "<style scoped>\n",
       "    .dataframe tbody tr th:only-of-type {\n",
       "        vertical-align: middle;\n",
       "    }\n",
       "\n",
       "    .dataframe tbody tr th {\n",
       "        vertical-align: top;\n",
       "    }\n",
       "\n",
       "    .dataframe thead th {\n",
       "        text-align: right;\n",
       "    }\n",
       "</style>\n",
       "<table border=\"1\" class=\"dataframe\">\n",
       "  <thead>\n",
       "    <tr style=\"text-align: right;\">\n",
       "      <th></th>\n",
       "      <th>Property</th>\n",
       "      <th>Address</th>\n",
       "      <th>City</th>\n",
       "      <th>State</th>\n",
       "      <th>ZipCode</th>\n",
       "      <th>Phone</th>\n",
       "      <th>Unit</th>\n",
       "      <th>Beds</th>\n",
       "      <th>Baths</th>\n",
       "      <th>Beds_Baths</th>\n",
       "      <th>...</th>\n",
       "      <th>HasWasherDryer</th>\n",
       "      <th>HasAirConditioning</th>\n",
       "      <th>HasPool</th>\n",
       "      <th>HasSpa</th>\n",
       "      <th>HasGym</th>\n",
       "      <th>HasEVCharging</th>\n",
       "      <th>StorageFee</th>\n",
       "      <th>AllowsDogs</th>\n",
       "      <th>AllowsCats</th>\n",
       "      <th>ListingURL</th>\n",
       "    </tr>\n",
       "  </thead>\n",
       "  <tbody>\n",
       "    <tr>\n",
       "      <th>0</th>\n",
       "      <td>Radian</td>\n",
       "      <td>675 9th Ave, San Diego, CA 92101</td>\n",
       "      <td>San Diego</td>\n",
       "      <td>CA</td>\n",
       "      <td>92101</td>\n",
       "      <td>8582216613</td>\n",
       "      <td>Unit 1413</td>\n",
       "      <td>1</td>\n",
       "      <td>1.0</td>\n",
       "      <td>1 Bed / 1 Bath</td>\n",
       "      <td>...</td>\n",
       "      <td>True</td>\n",
       "      <td>True</td>\n",
       "      <td>True</td>\n",
       "      <td>False</td>\n",
       "      <td>True</td>\n",
       "      <td>False</td>\n",
       "      <td>NaN</td>\n",
       "      <td>False</td>\n",
       "      <td>False</td>\n",
       "      <td>https://www.apartments.com/radian-san-diego-ca...</td>\n",
       "    </tr>\n",
       "    <tr>\n",
       "      <th>1</th>\n",
       "      <td>Radian</td>\n",
       "      <td>675 9th Ave, San Diego, CA 92101</td>\n",
       "      <td>San Diego</td>\n",
       "      <td>CA</td>\n",
       "      <td>92101</td>\n",
       "      <td>8582216613</td>\n",
       "      <td>Unit 1513</td>\n",
       "      <td>1</td>\n",
       "      <td>1.0</td>\n",
       "      <td>1 Bed / 1 Bath</td>\n",
       "      <td>...</td>\n",
       "      <td>True</td>\n",
       "      <td>True</td>\n",
       "      <td>True</td>\n",
       "      <td>False</td>\n",
       "      <td>True</td>\n",
       "      <td>False</td>\n",
       "      <td>NaN</td>\n",
       "      <td>False</td>\n",
       "      <td>False</td>\n",
       "      <td>https://www.apartments.com/radian-san-diego-ca...</td>\n",
       "    </tr>\n",
       "    <tr>\n",
       "      <th>2</th>\n",
       "      <td>Radian</td>\n",
       "      <td>675 9th Ave, San Diego, CA 92101</td>\n",
       "      <td>San Diego</td>\n",
       "      <td>CA</td>\n",
       "      <td>92101</td>\n",
       "      <td>8582216613</td>\n",
       "      <td>Unit 1613</td>\n",
       "      <td>1</td>\n",
       "      <td>1.0</td>\n",
       "      <td>1 Bed / 1 Bath</td>\n",
       "      <td>...</td>\n",
       "      <td>True</td>\n",
       "      <td>True</td>\n",
       "      <td>True</td>\n",
       "      <td>False</td>\n",
       "      <td>True</td>\n",
       "      <td>False</td>\n",
       "      <td>NaN</td>\n",
       "      <td>False</td>\n",
       "      <td>False</td>\n",
       "      <td>https://www.apartments.com/radian-san-diego-ca...</td>\n",
       "    </tr>\n",
       "    <tr>\n",
       "      <th>3</th>\n",
       "      <td>Radian</td>\n",
       "      <td>675 9th Ave, San Diego, CA 92101</td>\n",
       "      <td>San Diego</td>\n",
       "      <td>CA</td>\n",
       "      <td>92101</td>\n",
       "      <td>8582216613</td>\n",
       "      <td>Unit 1210</td>\n",
       "      <td>1</td>\n",
       "      <td>1.0</td>\n",
       "      <td>1 Bed / 1 Bath</td>\n",
       "      <td>...</td>\n",
       "      <td>True</td>\n",
       "      <td>True</td>\n",
       "      <td>True</td>\n",
       "      <td>False</td>\n",
       "      <td>True</td>\n",
       "      <td>False</td>\n",
       "      <td>NaN</td>\n",
       "      <td>False</td>\n",
       "      <td>False</td>\n",
       "      <td>https://www.apartments.com/radian-san-diego-ca...</td>\n",
       "    </tr>\n",
       "    <tr>\n",
       "      <th>4</th>\n",
       "      <td>Radian</td>\n",
       "      <td>675 9th Ave, San Diego, CA 92101</td>\n",
       "      <td>San Diego</td>\n",
       "      <td>CA</td>\n",
       "      <td>92101</td>\n",
       "      <td>8582216613</td>\n",
       "      <td>Unit 1510</td>\n",
       "      <td>1</td>\n",
       "      <td>1.0</td>\n",
       "      <td>1 Bed / 1 Bath</td>\n",
       "      <td>...</td>\n",
       "      <td>True</td>\n",
       "      <td>True</td>\n",
       "      <td>True</td>\n",
       "      <td>False</td>\n",
       "      <td>True</td>\n",
       "      <td>False</td>\n",
       "      <td>NaN</td>\n",
       "      <td>False</td>\n",
       "      <td>False</td>\n",
       "      <td>https://www.apartments.com/radian-san-diego-ca...</td>\n",
       "    </tr>\n",
       "  </tbody>\n",
       "</table>\n",
       "<p>5 rows × 24 columns</p>\n",
       "</div>"
      ],
      "text/plain": [
       "  Property                           Address       City State  ZipCode  \\\n",
       "0   Radian  675 9th Ave, San Diego, CA 92101  San Diego    CA    92101   \n",
       "1   Radian  675 9th Ave, San Diego, CA 92101  San Diego    CA    92101   \n",
       "2   Radian  675 9th Ave, San Diego, CA 92101  San Diego    CA    92101   \n",
       "3   Radian  675 9th Ave, San Diego, CA 92101  San Diego    CA    92101   \n",
       "4   Radian  675 9th Ave, San Diego, CA 92101  San Diego    CA    92101   \n",
       "\n",
       "        Phone       Unit  Beds  Baths      Beds_Baths  ...  HasWasherDryer  \\\n",
       "0  8582216613  Unit 1413     1    1.0  1 Bed / 1 Bath  ...            True   \n",
       "1  8582216613  Unit 1513     1    1.0  1 Bed / 1 Bath  ...            True   \n",
       "2  8582216613  Unit 1613     1    1.0  1 Bed / 1 Bath  ...            True   \n",
       "3  8582216613  Unit 1210     1    1.0  1 Bed / 1 Bath  ...            True   \n",
       "4  8582216613  Unit 1510     1    1.0  1 Bed / 1 Bath  ...            True   \n",
       "\n",
       "   HasAirConditioning  HasPool HasSpa  HasGym  HasEVCharging  StorageFee  \\\n",
       "0                True     True  False    True          False         NaN   \n",
       "1                True     True  False    True          False         NaN   \n",
       "2                True     True  False    True          False         NaN   \n",
       "3                True     True  False    True          False         NaN   \n",
       "4                True     True  False    True          False         NaN   \n",
       "\n",
       "   AllowsDogs  AllowsCats                                         ListingURL  \n",
       "0       False       False  https://www.apartments.com/radian-san-diego-ca...  \n",
       "1       False       False  https://www.apartments.com/radian-san-diego-ca...  \n",
       "2       False       False  https://www.apartments.com/radian-san-diego-ca...  \n",
       "3       False       False  https://www.apartments.com/radian-san-diego-ca...  \n",
       "4       False       False  https://www.apartments.com/radian-san-diego-ca...  \n",
       "\n",
       "[5 rows x 24 columns]"
      ]
     },
     "execution_count": 2,
     "metadata": {},
     "output_type": "execute_result"
    }
   ],
   "source": [
    "# Cell 2: Load data\n",
    "df = pd.read_csv('san_diego_county_rentals_2025-04-25.csv')\n",
    "\n",
    "# Quick peek\n",
    "df.head()\n"
   ]
  },
  {
   "cell_type": "markdown",
   "id": "2311922c",
   "metadata": {},
   "source": [
    "---\n",
    "**Compute median and IQR for PricePerSqFt.**  \n",
    "IQR = Q3 − Q1\n"
   ]
  },
  {
   "cell_type": "code",
   "execution_count": 3,
   "id": "6c0dcae6",
   "metadata": {},
   "outputs": [
    {
     "name": "stdout",
     "output_type": "stream",
     "text": [
      "Median PricePerSqFt: $3.49\n",
      "IQR: $3.04 – $4.06 (IQR = $1.02)\n"
     ]
    }
   ],
   "source": [
    "# Cell 3: Median & IQR\n",
    "ppsqft = df['PricePerSqFt'].dropna()\n",
    "median_pp = ppsqft.median()\n",
    "q1, q3 = ppsqft.quantile([0.25, 0.75])\n",
    "iqr = q3 - q1\n",
    "\n",
    "print(f\"Median PricePerSqFt: ${median_pp:.2f}\")\n",
    "print(f\"IQR: ${q1:.2f} – ${q3:.2f} (IQR = ${iqr:.2f})\")\n"
   ]
  },
  {
   "cell_type": "markdown",
   "id": "1a01d148",
   "metadata": {},
   "source": [
    "---\n",
    "**Top 3 cities by average PricePerSqFt.**\n"
   ]
  },
  {
   "cell_type": "code",
   "execution_count": 4,
   "id": "14e91ae3",
   "metadata": {},
   "outputs": [
    {
     "name": "stdout",
     "output_type": "stream",
     "text": [
      "Average Rent by # Beds:\n",
      "Beds\n",
      "0    2348\n",
      "1    2738\n",
      "2    3358\n",
      "3    4193\n",
      "4    1478\n"
     ]
    }
   ],
   "source": [
    "# Cell 5: Rent by Beds\n",
    "beds_price = df.groupby('Beds')['Price'].mean().round().astype(int)\n",
    "print(\"Average Rent by # Beds:\")\n",
    "print(beds_price.to_string())\n"
   ]
  },
  {
   "cell_type": "markdown",
   "id": "32c73322",
   "metadata": {},
   "source": [
    "---\n",
    "**Amenity premiums:**  \n",
    "For each amenity flag, compute  \n"
   ]
  },
  {
   "cell_type": "code",
   "execution_count": 6,
   "id": "c751f4f7",
   "metadata": {},
   "outputs": [
    {
     "name": "stdout",
     "output_type": "stream",
     "text": [
      "Amenity Premiums (%):\n",
      "  HasWasherDryer: 6.3%\n",
      "  HasAirConditioning: 4.0%\n",
      "  HasPool: -11.3%\n",
      "  HasSpa: -5.3%\n",
      "  HasGym: 4.3%\n"
     ]
    }
   ],
   "source": [
    "# Cell 6: Amenity Premiums\n",
    "amenities = ['HasWasherDryer','HasAirConditioning','HasPool','HasSpa','HasGym']\n",
    "premiums = {}\n",
    "for amen in amenities:\n",
    "    with_avg  = df.loc[df[amen]==True, 'PricePerSqFt'].mean()\n",
    "    without_avg = df.loc[df[amen]==False, 'PricePerSqFt'].mean()\n",
    "    premiums[amen] = (with_avg - without_avg) / without_avg * 100\n",
    "\n",
    "# Display\n",
    "print(\"Amenity Premiums (%):\")\n",
    "for amen, pct in premiums.items():\n",
    "    print(f\"  {amen}: {pct:.1f}%\")\n"
   ]
  },
  {
   "cell_type": "markdown",
   "id": "5f21096e",
   "metadata": {},
   "source": [
    "---\n",
    "**Pet allowance percentages**  \n",
    "What share of listings allow dogs/cats?\n"
   ]
  },
  {
   "cell_type": "code",
   "execution_count": 7,
   "id": "7fe1eb67",
   "metadata": {},
   "outputs": [
    {
     "name": "stdout",
     "output_type": "stream",
     "text": [
      "Allows Dogs: 0%\n",
      "Allows Cats: 0%\n"
     ]
    }
   ],
   "source": [
    "# Cell 7: Pet allowances\n",
    "dog_pct = df['AllowsDogs'].mean() * 100\n",
    "cat_pct = df['AllowsCats'].mean() * 100\n",
    "print(f\"Allows Dogs: {dog_pct:.0f}%\")\n",
    "print(f\"Allows Cats: {cat_pct:.0f}%\")\n"
   ]
  },
  {
   "cell_type": "markdown",
   "id": "3ebcac94",
   "metadata": {},
   "source": [
    "---\n",
    "**Rental-type distribution**  \n",
    "What percent of listings are each type?\n"
   ]
  },
  {
   "cell_type": "code",
   "execution_count": 8,
   "id": "d83cd784",
   "metadata": {},
   "outputs": [
    {
     "name": "stdout",
     "output_type": "stream",
     "text": [
      "Rental Type Distribution (%):\n",
      "RentalType\n",
      "Apartment    100.0\n"
     ]
    }
   ],
   "source": [
    "# Cell 8: Rental type distribution\n",
    "rental_dist = df['RentalType'].value_counts(normalize=True) * 100\n",
    "print(\"Rental Type Distribution (%):\")\n",
    "print(rental_dist.round(1).to_string())\n"
   ]
  },
  {
   "cell_type": "markdown",
   "id": "c8c53a30",
   "metadata": {},
   "source": [
    "---\n",
    "**Histogram of PricePerSqFt**  \n",
    "Visualize the full distribution (snapshot).\n"
   ]
  },
  {
   "cell_type": "code",
   "execution_count": 9,
   "id": "965317be",
   "metadata": {},
   "outputs": [
    {
     "data": {
      "image/png": "[encoded data removed]",
      "text/plain": [
       "<Figure size 800x400 with 1 Axes>"
      ]
     },
     "metadata": {},
     "output_type": "display_data"
    }
   ],
   "source": [
    "# Cell 9: Histogram\n",
    "plt.figure(figsize=(8,4))\n",
    "plt.hist(ppsqft, bins=30)\n",
    "plt.title('Distribution of Price per SqFt')\n",
    "plt.xlabel('PricePerSqFt ($)')\n",
    "plt.ylabel('Count of Units')\n",
    "plt.tight_layout()\n",
    "plt.show()\n"
   ]
  }
 ],
 "metadata": {
  "kernelspec": {
   "display_name": "Python 3",
   "language": "python",
   "name": "python3"
  },
  "language_info": {
   "codemirror_mode": {
    "name": "ipython",
    "version": 3
   },
   "file_extension": ".py",
   "mimetype": "text/x-python",
   "name": "python",
   "nbconvert_exporter": "python",
   "pygments_lexer": "ipython3",
   "version": "3.11.9"
  }
 },
 "nbformat": 4,
 "nbformat_minor": 5
}
